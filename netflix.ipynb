{
 "cells": [
  {
   "cell_type": "markdown",
   "metadata": {},
   "source": [
    "### Import Dependencies"
   ]
  },
  {
   "cell_type": "code",
   "execution_count": 27,
   "metadata": {},
   "outputs": [],
   "source": [
    "import pandas as pd\n",
    "from sqlalchemy import create_engine\n",
    "low_memory=False"
   ]
  },
  {
   "cell_type": "markdown",
   "metadata": {},
   "source": [
    "### Import datasets"
   ]
  },
  {
   "cell_type": "code",
   "execution_count": 2,
   "metadata": {},
   "outputs": [
    {
     "name": "stderr",
     "output_type": "stream",
     "text": [
      "C:\\Users\\Isaac Becker\\anaconda3\\lib\\site-packages\\IPython\\core\\interactiveshell.py:3146: DtypeWarning: Columns (3) have mixed types.Specify dtype option on import or set low_memory=False.\n",
      "  has_raised = await self.run_ast_nodes(code_ast.body, cell_name,\n"
     ]
    }
   ],
   "source": [
    "#import the IMDb csv\n",
    "imdb_file = \"Resources/IMDb_movies.csv\"\n",
    "imdb_db = pd.read_csv(imdb_file)\n"
   ]
  },
  {
   "cell_type": "code",
   "execution_count": 3,
   "metadata": {},
   "outputs": [],
   "source": [
    "#import the Netflix csv\n",
    "netflix_file = \"Resources/netflix_titles.csv\"\n",
    "netflix_db = pd.read_csv(netflix_file)\n"
   ]
  },
  {
   "cell_type": "code",
   "execution_count": 4,
   "metadata": {},
   "outputs": [],
   "source": [
    "#import the HBO csv\n",
    "hbo_file= \"Resources/HBO_movies.csv\"\n",
    "hbo_db = pd.read_csv(hbo_file)"
   ]
  },
  {
   "cell_type": "code",
   "execution_count": 5,
   "metadata": {},
   "outputs": [],
   "source": [
    "#import the Amazon csv\n",
    "amazon_file = \"Resources/amazon_prime_movies.csv\"\n",
    "amazon_db = pd.read_csv(amazon_file)"
   ]
  },
  {
   "cell_type": "code",
   "execution_count": 6,
   "metadata": {},
   "outputs": [],
   "source": [
    "#import the Disney Plus csv\n",
    "disney_file = \"Resources/disney_plus_shows.csv\"\n",
    "disney_db = pd.read_csv(disney_file)"
   ]
  },
  {
   "cell_type": "markdown",
   "metadata": {},
   "source": [
    "### Clean the Datasets"
   ]
  },
  {
   "cell_type": "code",
   "execution_count": 43,
   "metadata": {
    "scrolled": true
   },
   "outputs": [],
   "source": [
    "imdb_clean_db = imdb_db[['title',\"avg_vote\",\"budget\",\"worlwide_gross_income\"]].copy()\n",
    "imdb_clean_db = imdb_clean_db.rename(columns={\n",
    "    \"avg_vote\":\"vote_average\",\n",
    "    \"worlwide_gross_income\":\"revenue\"\n",
    "})\n",
    "imdb_clean_db['budget'] = imdb_clean_db['budget'].str.replace('$',\"\")\n",
    "imdb_clean_db['revenue'] = imdb_clean_db['revenue'].str.replace('$',\"\")\n",
    "imdb_clean_db = imdb_clean_db.drop_duplicates(subset=['title'])\n",
    "imdb_clean_db = imdb_clean_db.dropna()"
   ]
  },
  {
   "cell_type": "code",
   "execution_count": 37,
   "metadata": {
    "scrolled": true
   },
   "outputs": [],
   "source": [
    "netflix_clean_db = netflix_db[[\"title\",\"rating\"]].copy()"
   ]
  },
  {
   "cell_type": "code",
   "execution_count": 38,
   "metadata": {},
   "outputs": [],
   "source": [
    "hbo_db = hbo_db.replace(\"18+\",\"R\")\n",
    "hbo_db = hbo_db.replace(\"13+\",\"PG-13\")\n",
    "hbo_db = hbo_db.replace(\"7+\",\"PG\")\n",
    "hbo_db = hbo_db.replace(\"all\",\"G\")\n",
    "hbo_db = hbo_db.rename(columns={\"movie\":\"title\",\n",
    "                               \"rating\":\"rating\"})\n",
    "hbo_clean_db= hbo_db[[\"title\",\"rating\"]].copy()"
   ]
  },
  {
   "cell_type": "code",
   "execution_count": 39,
   "metadata": {},
   "outputs": [],
   "source": [
    "amazon_db = amazon_db.replace(\"18+\",\"R\")\n",
    "amazon_db = amazon_db.replace(\"13+\",\"PG-13\")\n",
    "amazon_db = amazon_db.replace(\"7+\",\"PG\")\n",
    "amazon_db = amazon_db.replace(\"All\",\"G\")\n",
    "amazon_db = amazon_db.rename(columns={\"Movie Name\":\"title\",\n",
    "                                      \"Maturity Rating\":\"rating\"})\n",
    "amazon_clean_db = amazon_db[[\"title\",\"rating\"]].copy()"
   ]
  },
  {
   "cell_type": "code",
   "execution_count": 40,
   "metadata": {
    "scrolled": true
   },
   "outputs": [],
   "source": [
    "disney_db = disney_db.rename(columns={\"rated\":\"rating\"})\n",
    "disney_clean_db = disney_db[[\"title\",\"rating\"]].copy()"
   ]
  },
  {
   "cell_type": "markdown",
   "metadata": {},
   "source": [
    "### Connect to SQL"
   ]
  },
  {
   "cell_type": "code",
   "execution_count": 20,
   "metadata": {},
   "outputs": [],
   "source": [
    "connection_string = \"postgres:postgres@localhost:5432/streaming_db\"\n",
    "engine = create_engine(f'postgresql://{connection_string}')"
   ]
  },
  {
   "cell_type": "code",
   "execution_count": 34,
   "metadata": {},
   "outputs": [],
   "source": [
    "imdb_clean_db.to_sql(name='imdb', con=engine, if_exists='append', index=False)"
   ]
  },
  {
   "cell_type": "code",
   "execution_count": 22,
   "metadata": {},
   "outputs": [],
   "source": [
    "netflix_clean_db.to_sql(name='netflix', con=engine, if_exists='append', index=False)"
   ]
  },
  {
   "cell_type": "code",
   "execution_count": 23,
   "metadata": {},
   "outputs": [],
   "source": [
    "hbo_clean_db.to_sql(name='hbo', con=engine, if_exists='append', index=False)"
   ]
  },
  {
   "cell_type": "code",
   "execution_count": 35,
   "metadata": {},
   "outputs": [],
   "source": [
    "amazon_clean_db.to_sql(name='amazon', con=engine, if_exists='append', index=False)"
   ]
  },
  {
   "cell_type": "code",
   "execution_count": 25,
   "metadata": {},
   "outputs": [],
   "source": [
    "disney_clean_db.to_sql(name='disney', con=engine, if_exists='append', index=False)"
   ]
  },
  {
   "cell_type": "code",
   "execution_count": 26,
   "metadata": {},
   "outputs": [
    {
     "data": {
      "text/html": [
       "<div>\n",
       "<style scoped>\n",
       "    .dataframe tbody tr th:only-of-type {\n",
       "        vertical-align: middle;\n",
       "    }\n",
       "\n",
       "    .dataframe tbody tr th {\n",
       "        vertical-align: top;\n",
       "    }\n",
       "\n",
       "    .dataframe thead th {\n",
       "        text-align: right;\n",
       "    }\n",
       "</style>\n",
       "<table border=\"1\" class=\"dataframe\">\n",
       "  <thead>\n",
       "    <tr style=\"text-align: right;\">\n",
       "      <th></th>\n",
       "      <th>title</th>\n",
       "      <th>rating</th>\n",
       "    </tr>\n",
       "  </thead>\n",
       "  <tbody>\n",
       "    <tr>\n",
       "      <th>0</th>\n",
       "      <td>3%</td>\n",
       "      <td>TV-MA</td>\n",
       "    </tr>\n",
       "    <tr>\n",
       "      <th>1</th>\n",
       "      <td>7:19</td>\n",
       "      <td>TV-MA</td>\n",
       "    </tr>\n",
       "    <tr>\n",
       "      <th>2</th>\n",
       "      <td>23:59</td>\n",
       "      <td>R</td>\n",
       "    </tr>\n",
       "    <tr>\n",
       "      <th>3</th>\n",
       "      <td>9</td>\n",
       "      <td>PG-13</td>\n",
       "    </tr>\n",
       "    <tr>\n",
       "      <th>4</th>\n",
       "      <td>21</td>\n",
       "      <td>PG-13</td>\n",
       "    </tr>\n",
       "  </tbody>\n",
       "</table>\n",
       "</div>"
      ],
      "text/plain": [
       "   title rating\n",
       "0     3%  TV-MA\n",
       "1   7:19  TV-MA\n",
       "2  23:59      R\n",
       "3      9  PG-13\n",
       "4     21  PG-13"
      ]
     },
     "execution_count": 26,
     "metadata": {},
     "output_type": "execute_result"
    }
   ],
   "source": [
    "pd.read_sql_query('select * from netflix', con=engine).head()"
   ]
  },
  {
   "cell_type": "code",
   "execution_count": null,
   "metadata": {},
   "outputs": [],
   "source": []
  }
 ],
 "metadata": {
  "kernelspec": {
   "display_name": "Python 3",
   "language": "python",
   "name": "python3"
  },
  "language_info": {
   "codemirror_mode": {
    "name": "ipython",
    "version": 3
   },
   "file_extension": ".py",
   "mimetype": "text/x-python",
   "name": "python",
   "nbconvert_exporter": "python",
   "pygments_lexer": "ipython3",
   "version": "3.8.5"
  }
 },
 "nbformat": 4,
 "nbformat_minor": 2
}
